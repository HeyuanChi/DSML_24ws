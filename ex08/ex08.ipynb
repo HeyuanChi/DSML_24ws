{
 "cells": [
  {
   "cell_type": "code",
   "execution_count": 1,
   "metadata": {},
   "outputs": [],
   "source": [
    "import numpy as np\n",
    "import matplotlib.pyplot as plt\n",
    "from scipy.integrate import solve_ivp\n",
    "import pysindy as ps\n",
    "from tqdm import tqdm\n",
    "from joblib import Parallel, delayed\n",
    "%matplotlib inline"
   ]
  },
  {
   "cell_type": "markdown",
   "metadata": {},
   "source": [
    "### Task 1.1 Reconstructing a dynamical system from data using PySINDy"
   ]
  },
  {
   "cell_type": "code",
   "execution_count": 2,
   "metadata": {},
   "outputs": [],
   "source": [
    "# Lorenz system\n",
    "def lorenz_system(t, y, sigma=10, rho=28, beta=8/3):\n",
    "    x, y, z = y\n",
    "    return [sigma * (y - x), x * (rho - z) - y, x * y - beta * z]"
   ]
  },
  {
   "cell_type": "code",
   "execution_count": 3,
   "metadata": {},
   "outputs": [],
   "source": [
    "# Generate data\n",
    "t_span = (0, 30)\n",
    "n_steps = 3000\n",
    "initial_conditions = [1.0, 1.0, 1.0]\n",
    "t_eval = np.linspace(t_span[0], t_span[1], n_steps)\n",
    "sol = solve_ivp(lorenz_system, t_span, initial_conditions, t_eval=t_eval, method='RK45')"
   ]
  },
  {
   "cell_type": "markdown",
   "metadata": {},
   "source": [
    "### Task 1.2 Fitting a model"
   ]
  },
  {
   "cell_type": "code",
   "execution_count": 4,
   "metadata": {},
   "outputs": [
    {
     "data": {
      "text/html": [
       "<style>#sk-container-id-1 {\n",
       "  /* Definition of color scheme common for light and dark mode */\n",
       "  --sklearn-color-text: #000;\n",
       "  --sklearn-color-text-muted: #666;\n",
       "  --sklearn-color-line: gray;\n",
       "  /* Definition of color scheme for unfitted estimators */\n",
       "  --sklearn-color-unfitted-level-0: #fff5e6;\n",
       "  --sklearn-color-unfitted-level-1: #f6e4d2;\n",
       "  --sklearn-color-unfitted-level-2: #ffe0b3;\n",
       "  --sklearn-color-unfitted-level-3: chocolate;\n",
       "  /* Definition of color scheme for fitted estimators */\n",
       "  --sklearn-color-fitted-level-0: #f0f8ff;\n",
       "  --sklearn-color-fitted-level-1: #d4ebff;\n",
       "  --sklearn-color-fitted-level-2: #b3dbfd;\n",
       "  --sklearn-color-fitted-level-3: cornflowerblue;\n",
       "\n",
       "  /* Specific color for light theme */\n",
       "  --sklearn-color-text-on-default-background: var(--sg-text-color, var(--theme-code-foreground, var(--jp-content-font-color1, black)));\n",
       "  --sklearn-color-background: var(--sg-background-color, var(--theme-background, var(--jp-layout-color0, white)));\n",
       "  --sklearn-color-border-box: var(--sg-text-color, var(--theme-code-foreground, var(--jp-content-font-color1, black)));\n",
       "  --sklearn-color-icon: #696969;\n",
       "\n",
       "  @media (prefers-color-scheme: dark) {\n",
       "    /* Redefinition of color scheme for dark theme */\n",
       "    --sklearn-color-text-on-default-background: var(--sg-text-color, var(--theme-code-foreground, var(--jp-content-font-color1, white)));\n",
       "    --sklearn-color-background: var(--sg-background-color, var(--theme-background, var(--jp-layout-color0, #111)));\n",
       "    --sklearn-color-border-box: var(--sg-text-color, var(--theme-code-foreground, var(--jp-content-font-color1, white)));\n",
       "    --sklearn-color-icon: #878787;\n",
       "  }\n",
       "}\n",
       "\n",
       "#sk-container-id-1 {\n",
       "  color: var(--sklearn-color-text);\n",
       "}\n",
       "\n",
       "#sk-container-id-1 pre {\n",
       "  padding: 0;\n",
       "}\n",
       "\n",
       "#sk-container-id-1 input.sk-hidden--visually {\n",
       "  border: 0;\n",
       "  clip: rect(1px 1px 1px 1px);\n",
       "  clip: rect(1px, 1px, 1px, 1px);\n",
       "  height: 1px;\n",
       "  margin: -1px;\n",
       "  overflow: hidden;\n",
       "  padding: 0;\n",
       "  position: absolute;\n",
       "  width: 1px;\n",
       "}\n",
       "\n",
       "#sk-container-id-1 div.sk-dashed-wrapped {\n",
       "  border: 1px dashed var(--sklearn-color-line);\n",
       "  margin: 0 0.4em 0.5em 0.4em;\n",
       "  box-sizing: border-box;\n",
       "  padding-bottom: 0.4em;\n",
       "  background-color: var(--sklearn-color-background);\n",
       "}\n",
       "\n",
       "#sk-container-id-1 div.sk-container {\n",
       "  /* jupyter's `normalize.less` sets `[hidden] { display: none; }`\n",
       "     but bootstrap.min.css set `[hidden] { display: none !important; }`\n",
       "     so we also need the `!important` here to be able to override the\n",
       "     default hidden behavior on the sphinx rendered scikit-learn.org.\n",
       "     See: https://github.com/scikit-learn/scikit-learn/issues/21755 */\n",
       "  display: inline-block !important;\n",
       "  position: relative;\n",
       "}\n",
       "\n",
       "#sk-container-id-1 div.sk-text-repr-fallback {\n",
       "  display: none;\n",
       "}\n",
       "\n",
       "div.sk-parallel-item,\n",
       "div.sk-serial,\n",
       "div.sk-item {\n",
       "  /* draw centered vertical line to link estimators */\n",
       "  background-image: linear-gradient(var(--sklearn-color-text-on-default-background), var(--sklearn-color-text-on-default-background));\n",
       "  background-size: 2px 100%;\n",
       "  background-repeat: no-repeat;\n",
       "  background-position: center center;\n",
       "}\n",
       "\n",
       "/* Parallel-specific style estimator block */\n",
       "\n",
       "#sk-container-id-1 div.sk-parallel-item::after {\n",
       "  content: \"\";\n",
       "  width: 100%;\n",
       "  border-bottom: 2px solid var(--sklearn-color-text-on-default-background);\n",
       "  flex-grow: 1;\n",
       "}\n",
       "\n",
       "#sk-container-id-1 div.sk-parallel {\n",
       "  display: flex;\n",
       "  align-items: stretch;\n",
       "  justify-content: center;\n",
       "  background-color: var(--sklearn-color-background);\n",
       "  position: relative;\n",
       "}\n",
       "\n",
       "#sk-container-id-1 div.sk-parallel-item {\n",
       "  display: flex;\n",
       "  flex-direction: column;\n",
       "}\n",
       "\n",
       "#sk-container-id-1 div.sk-parallel-item:first-child::after {\n",
       "  align-self: flex-end;\n",
       "  width: 50%;\n",
       "}\n",
       "\n",
       "#sk-container-id-1 div.sk-parallel-item:last-child::after {\n",
       "  align-self: flex-start;\n",
       "  width: 50%;\n",
       "}\n",
       "\n",
       "#sk-container-id-1 div.sk-parallel-item:only-child::after {\n",
       "  width: 0;\n",
       "}\n",
       "\n",
       "/* Serial-specific style estimator block */\n",
       "\n",
       "#sk-container-id-1 div.sk-serial {\n",
       "  display: flex;\n",
       "  flex-direction: column;\n",
       "  align-items: center;\n",
       "  background-color: var(--sklearn-color-background);\n",
       "  padding-right: 1em;\n",
       "  padding-left: 1em;\n",
       "}\n",
       "\n",
       "\n",
       "/* Toggleable style: style used for estimator/Pipeline/ColumnTransformer box that is\n",
       "clickable and can be expanded/collapsed.\n",
       "- Pipeline and ColumnTransformer use this feature and define the default style\n",
       "- Estimators will overwrite some part of the style using the `sk-estimator` class\n",
       "*/\n",
       "\n",
       "/* Pipeline and ColumnTransformer style (default) */\n",
       "\n",
       "#sk-container-id-1 div.sk-toggleable {\n",
       "  /* Default theme specific background. It is overwritten whether we have a\n",
       "  specific estimator or a Pipeline/ColumnTransformer */\n",
       "  background-color: var(--sklearn-color-background);\n",
       "}\n",
       "\n",
       "/* Toggleable label */\n",
       "#sk-container-id-1 label.sk-toggleable__label {\n",
       "  cursor: pointer;\n",
       "  display: flex;\n",
       "  width: 100%;\n",
       "  margin-bottom: 0;\n",
       "  padding: 0.5em;\n",
       "  box-sizing: border-box;\n",
       "  text-align: center;\n",
       "  align-items: start;\n",
       "  justify-content: space-between;\n",
       "  gap: 0.5em;\n",
       "}\n",
       "\n",
       "#sk-container-id-1 label.sk-toggleable__label .caption {\n",
       "  font-size: 0.6rem;\n",
       "  font-weight: lighter;\n",
       "  color: var(--sklearn-color-text-muted);\n",
       "}\n",
       "\n",
       "#sk-container-id-1 label.sk-toggleable__label-arrow:before {\n",
       "  /* Arrow on the left of the label */\n",
       "  content: \"▸\";\n",
       "  float: left;\n",
       "  margin-right: 0.25em;\n",
       "  color: var(--sklearn-color-icon);\n",
       "}\n",
       "\n",
       "#sk-container-id-1 label.sk-toggleable__label-arrow:hover:before {\n",
       "  color: var(--sklearn-color-text);\n",
       "}\n",
       "\n",
       "/* Toggleable content - dropdown */\n",
       "\n",
       "#sk-container-id-1 div.sk-toggleable__content {\n",
       "  max-height: 0;\n",
       "  max-width: 0;\n",
       "  overflow: hidden;\n",
       "  text-align: left;\n",
       "  /* unfitted */\n",
       "  background-color: var(--sklearn-color-unfitted-level-0);\n",
       "}\n",
       "\n",
       "#sk-container-id-1 div.sk-toggleable__content.fitted {\n",
       "  /* fitted */\n",
       "  background-color: var(--sklearn-color-fitted-level-0);\n",
       "}\n",
       "\n",
       "#sk-container-id-1 div.sk-toggleable__content pre {\n",
       "  margin: 0.2em;\n",
       "  border-radius: 0.25em;\n",
       "  color: var(--sklearn-color-text);\n",
       "  /* unfitted */\n",
       "  background-color: var(--sklearn-color-unfitted-level-0);\n",
       "}\n",
       "\n",
       "#sk-container-id-1 div.sk-toggleable__content.fitted pre {\n",
       "  /* unfitted */\n",
       "  background-color: var(--sklearn-color-fitted-level-0);\n",
       "}\n",
       "\n",
       "#sk-container-id-1 input.sk-toggleable__control:checked~div.sk-toggleable__content {\n",
       "  /* Expand drop-down */\n",
       "  max-height: 200px;\n",
       "  max-width: 100%;\n",
       "  overflow: auto;\n",
       "}\n",
       "\n",
       "#sk-container-id-1 input.sk-toggleable__control:checked~label.sk-toggleable__label-arrow:before {\n",
       "  content: \"▾\";\n",
       "}\n",
       "\n",
       "/* Pipeline/ColumnTransformer-specific style */\n",
       "\n",
       "#sk-container-id-1 div.sk-label input.sk-toggleable__control:checked~label.sk-toggleable__label {\n",
       "  color: var(--sklearn-color-text);\n",
       "  background-color: var(--sklearn-color-unfitted-level-2);\n",
       "}\n",
       "\n",
       "#sk-container-id-1 div.sk-label.fitted input.sk-toggleable__control:checked~label.sk-toggleable__label {\n",
       "  background-color: var(--sklearn-color-fitted-level-2);\n",
       "}\n",
       "\n",
       "/* Estimator-specific style */\n",
       "\n",
       "/* Colorize estimator box */\n",
       "#sk-container-id-1 div.sk-estimator input.sk-toggleable__control:checked~label.sk-toggleable__label {\n",
       "  /* unfitted */\n",
       "  background-color: var(--sklearn-color-unfitted-level-2);\n",
       "}\n",
       "\n",
       "#sk-container-id-1 div.sk-estimator.fitted input.sk-toggleable__control:checked~label.sk-toggleable__label {\n",
       "  /* fitted */\n",
       "  background-color: var(--sklearn-color-fitted-level-2);\n",
       "}\n",
       "\n",
       "#sk-container-id-1 div.sk-label label.sk-toggleable__label,\n",
       "#sk-container-id-1 div.sk-label label {\n",
       "  /* The background is the default theme color */\n",
       "  color: var(--sklearn-color-text-on-default-background);\n",
       "}\n",
       "\n",
       "/* On hover, darken the color of the background */\n",
       "#sk-container-id-1 div.sk-label:hover label.sk-toggleable__label {\n",
       "  color: var(--sklearn-color-text);\n",
       "  background-color: var(--sklearn-color-unfitted-level-2);\n",
       "}\n",
       "\n",
       "/* Label box, darken color on hover, fitted */\n",
       "#sk-container-id-1 div.sk-label.fitted:hover label.sk-toggleable__label.fitted {\n",
       "  color: var(--sklearn-color-text);\n",
       "  background-color: var(--sklearn-color-fitted-level-2);\n",
       "}\n",
       "\n",
       "/* Estimator label */\n",
       "\n",
       "#sk-container-id-1 div.sk-label label {\n",
       "  font-family: monospace;\n",
       "  font-weight: bold;\n",
       "  display: inline-block;\n",
       "  line-height: 1.2em;\n",
       "}\n",
       "\n",
       "#sk-container-id-1 div.sk-label-container {\n",
       "  text-align: center;\n",
       "}\n",
       "\n",
       "/* Estimator-specific */\n",
       "#sk-container-id-1 div.sk-estimator {\n",
       "  font-family: monospace;\n",
       "  border: 1px dotted var(--sklearn-color-border-box);\n",
       "  border-radius: 0.25em;\n",
       "  box-sizing: border-box;\n",
       "  margin-bottom: 0.5em;\n",
       "  /* unfitted */\n",
       "  background-color: var(--sklearn-color-unfitted-level-0);\n",
       "}\n",
       "\n",
       "#sk-container-id-1 div.sk-estimator.fitted {\n",
       "  /* fitted */\n",
       "  background-color: var(--sklearn-color-fitted-level-0);\n",
       "}\n",
       "\n",
       "/* on hover */\n",
       "#sk-container-id-1 div.sk-estimator:hover {\n",
       "  /* unfitted */\n",
       "  background-color: var(--sklearn-color-unfitted-level-2);\n",
       "}\n",
       "\n",
       "#sk-container-id-1 div.sk-estimator.fitted:hover {\n",
       "  /* fitted */\n",
       "  background-color: var(--sklearn-color-fitted-level-2);\n",
       "}\n",
       "\n",
       "/* Specification for estimator info (e.g. \"i\" and \"?\") */\n",
       "\n",
       "/* Common style for \"i\" and \"?\" */\n",
       "\n",
       ".sk-estimator-doc-link,\n",
       "a:link.sk-estimator-doc-link,\n",
       "a:visited.sk-estimator-doc-link {\n",
       "  float: right;\n",
       "  font-size: smaller;\n",
       "  line-height: 1em;\n",
       "  font-family: monospace;\n",
       "  background-color: var(--sklearn-color-background);\n",
       "  border-radius: 1em;\n",
       "  height: 1em;\n",
       "  width: 1em;\n",
       "  text-decoration: none !important;\n",
       "  margin-left: 0.5em;\n",
       "  text-align: center;\n",
       "  /* unfitted */\n",
       "  border: var(--sklearn-color-unfitted-level-1) 1pt solid;\n",
       "  color: var(--sklearn-color-unfitted-level-1);\n",
       "}\n",
       "\n",
       ".sk-estimator-doc-link.fitted,\n",
       "a:link.sk-estimator-doc-link.fitted,\n",
       "a:visited.sk-estimator-doc-link.fitted {\n",
       "  /* fitted */\n",
       "  border: var(--sklearn-color-fitted-level-1) 1pt solid;\n",
       "  color: var(--sklearn-color-fitted-level-1);\n",
       "}\n",
       "\n",
       "/* On hover */\n",
       "div.sk-estimator:hover .sk-estimator-doc-link:hover,\n",
       ".sk-estimator-doc-link:hover,\n",
       "div.sk-label-container:hover .sk-estimator-doc-link:hover,\n",
       ".sk-estimator-doc-link:hover {\n",
       "  /* unfitted */\n",
       "  background-color: var(--sklearn-color-unfitted-level-3);\n",
       "  color: var(--sklearn-color-background);\n",
       "  text-decoration: none;\n",
       "}\n",
       "\n",
       "div.sk-estimator.fitted:hover .sk-estimator-doc-link.fitted:hover,\n",
       ".sk-estimator-doc-link.fitted:hover,\n",
       "div.sk-label-container:hover .sk-estimator-doc-link.fitted:hover,\n",
       ".sk-estimator-doc-link.fitted:hover {\n",
       "  /* fitted */\n",
       "  background-color: var(--sklearn-color-fitted-level-3);\n",
       "  color: var(--sklearn-color-background);\n",
       "  text-decoration: none;\n",
       "}\n",
       "\n",
       "/* Span, style for the box shown on hovering the info icon */\n",
       ".sk-estimator-doc-link span {\n",
       "  display: none;\n",
       "  z-index: 9999;\n",
       "  position: relative;\n",
       "  font-weight: normal;\n",
       "  right: .2ex;\n",
       "  padding: .5ex;\n",
       "  margin: .5ex;\n",
       "  width: min-content;\n",
       "  min-width: 20ex;\n",
       "  max-width: 50ex;\n",
       "  color: var(--sklearn-color-text);\n",
       "  box-shadow: 2pt 2pt 4pt #999;\n",
       "  /* unfitted */\n",
       "  background: var(--sklearn-color-unfitted-level-0);\n",
       "  border: .5pt solid var(--sklearn-color-unfitted-level-3);\n",
       "}\n",
       "\n",
       ".sk-estimator-doc-link.fitted span {\n",
       "  /* fitted */\n",
       "  background: var(--sklearn-color-fitted-level-0);\n",
       "  border: var(--sklearn-color-fitted-level-3);\n",
       "}\n",
       "\n",
       ".sk-estimator-doc-link:hover span {\n",
       "  display: block;\n",
       "}\n",
       "\n",
       "/* \"?\"-specific style due to the `<a>` HTML tag */\n",
       "\n",
       "#sk-container-id-1 a.estimator_doc_link {\n",
       "  float: right;\n",
       "  font-size: 1rem;\n",
       "  line-height: 1em;\n",
       "  font-family: monospace;\n",
       "  background-color: var(--sklearn-color-background);\n",
       "  border-radius: 1rem;\n",
       "  height: 1rem;\n",
       "  width: 1rem;\n",
       "  text-decoration: none;\n",
       "  /* unfitted */\n",
       "  color: var(--sklearn-color-unfitted-level-1);\n",
       "  border: var(--sklearn-color-unfitted-level-1) 1pt solid;\n",
       "}\n",
       "\n",
       "#sk-container-id-1 a.estimator_doc_link.fitted {\n",
       "  /* fitted */\n",
       "  border: var(--sklearn-color-fitted-level-1) 1pt solid;\n",
       "  color: var(--sklearn-color-fitted-level-1);\n",
       "}\n",
       "\n",
       "/* On hover */\n",
       "#sk-container-id-1 a.estimator_doc_link:hover {\n",
       "  /* unfitted */\n",
       "  background-color: var(--sklearn-color-unfitted-level-3);\n",
       "  color: var(--sklearn-color-background);\n",
       "  text-decoration: none;\n",
       "}\n",
       "\n",
       "#sk-container-id-1 a.estimator_doc_link.fitted:hover {\n",
       "  /* fitted */\n",
       "  background-color: var(--sklearn-color-fitted-level-3);\n",
       "}\n",
       "</style><div id=\"sk-container-id-1\" class=\"sk-top-container\"><div class=\"sk-text-repr-fallback\"><pre>SINDy(differentiation_method=FiniteDifference(),\n",
       "      feature_library=PolynomialLibrary(degree=6),\n",
       "      feature_names=[&#x27;x0&#x27;, &#x27;x1&#x27;, &#x27;x2&#x27;], optimizer=STLSQ())</pre><b>In a Jupyter environment, please rerun this cell to show the HTML representation or trust the notebook. <br />On GitHub, the HTML representation is unable to render, please try loading this page with nbviewer.org.</b></div><div class=\"sk-container\" hidden><div class=\"sk-item sk-dashed-wrapped\"><div class=\"sk-label-container\"><div class=\"sk-label fitted sk-toggleable\"><input class=\"sk-toggleable__control sk-hidden--visually\" id=\"sk-estimator-id-1\" type=\"checkbox\" ><label for=\"sk-estimator-id-1\" class=\"sk-toggleable__label fitted sk-toggleable__label-arrow\"><div><div>SINDy</div></div><div><span class=\"sk-estimator-doc-link fitted\">i<span>Fitted</span></span></div></label><div class=\"sk-toggleable__content fitted\"><pre>SINDy(differentiation_method=FiniteDifference(),\n",
       "      feature_library=PolynomialLibrary(degree=6),\n",
       "      feature_names=[&#x27;x0&#x27;, &#x27;x1&#x27;, &#x27;x2&#x27;], optimizer=STLSQ())</pre></div> </div></div><div class=\"sk-parallel\"><div class=\"sk-parallel-item\"><div class=\"sk-item\"><div class=\"sk-label-container\"><div class=\"sk-label fitted sk-toggleable\"><input class=\"sk-toggleable__control sk-hidden--visually\" id=\"sk-estimator-id-2\" type=\"checkbox\" ><label for=\"sk-estimator-id-2\" class=\"sk-toggleable__label fitted sk-toggleable__label-arrow\"><div><div>feature_library: PolynomialLibrary</div></div></label><div class=\"sk-toggleable__content fitted\"><pre>PolynomialLibrary(degree=6)</pre></div> </div></div><div class=\"sk-serial\"><div class=\"sk-item\"><div class=\"sk-estimator fitted sk-toggleable\"><input class=\"sk-toggleable__control sk-hidden--visually\" id=\"sk-estimator-id-3\" type=\"checkbox\" ><label for=\"sk-estimator-id-3\" class=\"sk-toggleable__label fitted sk-toggleable__label-arrow\"><div><div>PolynomialLibrary</div></div></label><div class=\"sk-toggleable__content fitted\"><pre>PolynomialLibrary(degree=6)</pre></div> </div></div></div></div></div><div class=\"sk-parallel-item\"><div class=\"sk-item\"><div class=\"sk-label-container\"><div class=\"sk-label fitted sk-toggleable\"><input class=\"sk-toggleable__control sk-hidden--visually\" id=\"sk-estimator-id-4\" type=\"checkbox\" ><label for=\"sk-estimator-id-4\" class=\"sk-toggleable__label fitted sk-toggleable__label-arrow\"><div><div>optimizer: STLSQ</div></div></label><div class=\"sk-toggleable__content fitted\"><pre>STLSQ()</pre></div> </div></div><div class=\"sk-serial\"><div class=\"sk-item\"><div class=\"sk-estimator fitted sk-toggleable\"><input class=\"sk-toggleable__control sk-hidden--visually\" id=\"sk-estimator-id-5\" type=\"checkbox\" ><label for=\"sk-estimator-id-5\" class=\"sk-toggleable__label fitted sk-toggleable__label-arrow\"><div><div>STLSQ</div></div></label><div class=\"sk-toggleable__content fitted\"><pre>STLSQ()</pre></div> </div></div></div></div></div></div></div></div></div>"
      ],
      "text/plain": [
       "SINDy(differentiation_method=FiniteDifference(),\n",
       "      feature_library=PolynomialLibrary(degree=6),\n",
       "      feature_names=['x0', 'x1', 'x2'], optimizer=STLSQ())"
      ]
     },
     "execution_count": 4,
     "metadata": {},
     "output_type": "execute_result"
    }
   ],
   "source": [
    "# Initialize a SINDy model\n",
    "feature_library = ps.PolynomialLibrary(degree=6)\n",
    "optimizer = ps.STLSQ(threshold=0.1)\n",
    "model = ps.SINDy(feature_library=feature_library, optimizer=optimizer)\n",
    "model.fit(sol.y.T, t=sol.t)"
   ]
  },
  {
   "cell_type": "code",
   "execution_count": 5,
   "metadata": {},
   "outputs": [
    {
     "name": "stdout",
     "output_type": "stream",
     "text": [
      "(x0)' = -9.983 x0 + 9.983 x1\n",
      "(x1)' = 27.561 x0 + -0.909 x1 + -0.987 x0 x2\n",
      "(x2)' = -2.659 x2 + 0.996 x0 x1\n"
     ]
    }
   ],
   "source": [
    "model.print()\n",
    "simulated_data = model.simulate(initial_conditions, sol.t)"
   ]
  },
  {
   "cell_type": "code",
   "execution_count": 6,
   "metadata": {},
   "outputs": [
    {
     "data": {
      "text/plain": [
       "<matplotlib.legend.Legend at 0x30afd01d0>"
      ]
     },
     "execution_count": 6,
     "metadata": {},
     "output_type": "execute_result"
    },
    {
     "data": {
      "image/png": "[encoded data removed]",
      "text/plain": [
       "<Figure size 1600x800 with 2 Axes>"
      ]
     },
     "metadata": {},
     "output_type": "display_data"
    }
   ],
   "source": [
    "# 3D plot\n",
    "fig = plt.figure(figsize=(16, 8))\n",
    "\n",
    "# Original Data\n",
    "ax = fig.add_subplot(211, projection='3d')\n",
    "ax.plot(sol.y[0], sol.y[1], sol.y[2], label='Original Data', color='blue', alpha=0.7)\n",
    "ax.legend()\n",
    "\n",
    "# Reconstructed Data\n",
    "ax = fig.add_subplot(221, projection='3d')\n",
    "ax.plot(simulated_data[:, 0], simulated_data[:, 1], simulated_data[:, 2], label='Reconstructed Data', color='red', alpha=0.7)\n",
    "ax.legend()"
   ]
  },
  {
   "cell_type": "markdown",
   "metadata": {},
   "source": [
    "### Task 1.3 Performance Measure"
   ]
  },
  {
   "cell_type": "code",
   "execution_count": 7,
   "metadata": {},
   "outputs": [],
   "source": [
    "def predict_n_step(model, data, t, i, N):\n",
    "    return model.simulate(data[i], t[i: i+N+1])[-1]"
   ]
  },
  {
   "cell_type": "code",
   "execution_count": 8,
   "metadata": {},
   "outputs": [
    {
     "name": "stderr",
     "output_type": "stream",
     "text": [
      "100%|██████████| 199/199 [00:01<00:00, 101.19it/s]\n"
     ]
    },
    {
     "name": "stdout",
     "output_type": "stream",
     "text": [
      "Number of time points = 200: MSE = 5.5800584789145325e-05\n"
     ]
    },
    {
     "name": "stderr",
     "output_type": "stream",
     "text": [
      "100%|██████████| 499/499 [00:00<00:00, 855.46it/s]\n"
     ]
    },
    {
     "name": "stdout",
     "output_type": "stream",
     "text": [
      "Number of time points = 500: MSE = 2.5767475246301933e-05\n"
     ]
    },
    {
     "name": "stderr",
     "output_type": "stream",
     "text": [
      "100%|██████████| 999/999 [00:01<00:00, 699.09it/s]\n"
     ]
    },
    {
     "name": "stdout",
     "output_type": "stream",
     "text": [
      "Number of time points = 1000: MSE = 2.1603153260051547e-05\n"
     ]
    },
    {
     "name": "stderr",
     "output_type": "stream",
     "text": [
      "100%|██████████| 1999/1999 [00:03<00:00, 651.01it/s]\n"
     ]
    },
    {
     "name": "stdout",
     "output_type": "stream",
     "text": [
      "Number of time points = 2000: MSE = 2.8534729808990975e-05\n"
     ]
    }
   ],
   "source": [
    "# Test time points\n",
    "N = 1\n",
    "num_values = [200, 500, 1000, 2000]\n",
    "\n",
    "for num in num_values:\n",
    "    # Predict points after N step\n",
    "    predicted_points = np.array(Parallel(n_jobs=16)(delayed(predict_n_step)(model, sol.y.T, sol.t, i, N) for i in tqdm(range(num - N))))\n",
    "\n",
    "    # Compute MSE\n",
    "    mse = np.mean((predicted_points - sol.y.T[N: num]) ** 2)\n",
    "    print(f\"Number of time points = {num}: MSE = {mse}\")"
   ]
  },
  {
   "cell_type": "markdown",
   "metadata": {},
   "source": [
    "In case the analysis takes too long, it needs 1000 time points to be computed to achieve reasonably low variance."
   ]
  },
  {
   "cell_type": "code",
   "execution_count": 9,
   "metadata": {},
   "outputs": [
    {
     "name": "stderr",
     "output_type": "stream",
     "text": [
      "100%|██████████| 999/999 [00:01<00:00, 714.65it/s]\n"
     ]
    },
    {
     "name": "stdout",
     "output_type": "stream",
     "text": [
      "N = 1: MSE = 2.1603153260051547e-05\n"
     ]
    },
    {
     "name": "stderr",
     "output_type": "stream",
     "text": [
      "100%|██████████| 995/995 [00:02<00:00, 361.20it/s]\n"
     ]
    },
    {
     "name": "stdout",
     "output_type": "stream",
     "text": [
      "N = 5: MSE = 0.0002909626632151381\n"
     ]
    },
    {
     "name": "stderr",
     "output_type": "stream",
     "text": [
      "100%|██████████| 990/990 [00:03<00:00, 261.63it/s]\n"
     ]
    },
    {
     "name": "stdout",
     "output_type": "stream",
     "text": [
      "N = 10: MSE = 0.000683610352922234\n"
     ]
    },
    {
     "name": "stderr",
     "output_type": "stream",
     "text": [
      "100%|██████████| 980/980 [00:05<00:00, 176.73it/s]\n"
     ]
    },
    {
     "name": "stdout",
     "output_type": "stream",
     "text": [
      "N = 20: MSE = 0.0019489739784875673\n"
     ]
    },
    {
     "name": "stderr",
     "output_type": "stream",
     "text": [
      "100%|██████████| 950/950 [00:10<00:00, 86.89it/s]\n"
     ]
    },
    {
     "name": "stdout",
     "output_type": "stream",
     "text": [
      "N = 50: MSE = 0.003691919070032218\n"
     ]
    }
   ],
   "source": [
    "# Test N values\n",
    "N_values = [1, 5, 10, 20, 50]\n",
    "num = 1000\n",
    "\n",
    "for N in N_values:\n",
    "    # Predict points after N step\n",
    "    predicted_points = np.array(Parallel(n_jobs=16)(delayed(predict_n_step)(model, sol.y.T, sol.t, i, N) for i in tqdm(range(num - N))))\n",
    "\n",
    "    # Compute MSE\n",
    "    mse = np.mean((predicted_points - sol.y.T[N: num]) ** 2)\n",
    "    print(f\"N = {N}: MSE = {mse}\")"
   ]
  },
  {
   "cell_type": "markdown",
   "metadata": {},
   "source": [
    "Prediction errors increase significantly over time due to their sensitive dependence on initial conditions. For the Lorenz system, choosing $N=10$ is a practical choice for balancing predictability and computational efficiency."
   ]
  },
  {
   "cell_type": "markdown",
   "metadata": {},
   "source": [
    "### Task 1.4 Noise"
   ]
  },
  {
   "cell_type": "code",
   "execution_count": 10,
   "metadata": {},
   "outputs": [],
   "source": [
    "def add_noise(data, noise_level):\n",
    "    noisy_data = data + noise_level * np.random.randn(*data.shape)\n",
    "    return noisy_data"
   ]
  },
  {
   "cell_type": "code",
   "execution_count": 11,
   "metadata": {},
   "outputs": [
    {
     "name": "stdout",
     "output_type": "stream",
     "text": [
      "Threshold: 0.005\n",
      "(x0)' = -9.972 x0 + 9.977 x1\n",
      "(x1)' = 0.127 1 + 27.523 x0 + -0.890 x1 + -0.005 x2 + -0.986 x0 x2\n",
      "(x2)' = 0.480 1 + -0.017 x0 + -2.687 x2 + 0.011 x0^2 + 0.981 x0 x1 + 0.006 x1^2\n"
     ]
    },
    {
     "name": "stderr",
     "output_type": "stream",
     "text": [
      "100%|██████████| 990/990 [00:04<00:00, 243.80it/s]\n"
     ]
    },
    {
     "name": "stdout",
     "output_type": "stream",
     "text": [
      "MSE: 0.0007423760618551104\n",
      "Threshold: 0.01\n",
      "(x0)' = -9.972 x0 + 9.977 x1\n",
      "(x1)' = 27.527 x0 + -0.891 x1 + -0.986 x0 x2\n",
      "(x2)' = 0.098 1 + -2.660 x2 + 0.996 x0 x1\n"
     ]
    },
    {
     "name": "stderr",
     "output_type": "stream",
     "text": [
      "100%|██████████| 990/990 [00:04<00:00, 237.32it/s]\n"
     ]
    },
    {
     "name": "stdout",
     "output_type": "stream",
     "text": [
      "MSE: 0.0007171731843752234\n",
      "Threshold: 0.02\n",
      "(x0)' = -9.972 x0 + 9.977 x1\n",
      "(x1)' = 27.527 x0 + -0.891 x1 + -0.986 x0 x2\n",
      "(x2)' = 0.098 1 + -2.660 x2 + 0.996 x0 x1\n"
     ]
    },
    {
     "name": "stderr",
     "output_type": "stream",
     "text": [
      "100%|██████████| 990/990 [00:04<00:00, 232.65it/s]\n"
     ]
    },
    {
     "name": "stdout",
     "output_type": "stream",
     "text": [
      "MSE: 0.0007171731843752234\n",
      "Threshold: 0.05\n",
      "(x0)' = -9.972 x0 + 9.977 x1\n",
      "(x1)' = 27.527 x0 + -0.891 x1 + -0.986 x0 x2\n",
      "(x2)' = 0.098 1 + -2.660 x2 + 0.996 x0 x1\n"
     ]
    },
    {
     "name": "stderr",
     "output_type": "stream",
     "text": [
      "100%|██████████| 990/990 [00:04<00:00, 225.32it/s]\n"
     ]
    },
    {
     "name": "stdout",
     "output_type": "stream",
     "text": [
      "MSE: 0.0007171731843752234\n"
     ]
    }
   ],
   "source": [
    "noisy_data = add_noise(sol.y, 0.1)\n",
    "thresholds = [0.005, 0.01, 0.02, 0.05]\n",
    "N = 10\n",
    "\n",
    "for threshold in thresholds:\n",
    "    optimizer = ps.STLSQ(threshold=threshold)\n",
    "    model = ps.SINDy(feature_library=feature_library, optimizer=optimizer)\n",
    "    model.fit(noisy_data.T, t=sol.t)\n",
    "    print(f\"Threshold: {threshold}\")\n",
    "    model.print()\n",
    "    predicted_points = np.array(Parallel(n_jobs=16)(delayed(predict_n_step)(model, sol.y.T, sol.t, i, N) for i in tqdm(range(num - N))))\n",
    "    mse = np.mean((predicted_points - sol.y.T[N: num]) ** 2)\n",
    "    print(f\"MSE: {mse}\")"
   ]
  },
  {
   "cell_type": "markdown",
   "metadata": {},
   "source": [
    "For the dataset with 10 percent noise, setting the threshold at 0.01 in the SINDy model proves sufficient. Increasing the threshold beyond this value does not result in lower prediction errors."
   ]
  },
  {
   "cell_type": "code",
   "execution_count": 12,
   "metadata": {},
   "outputs": [
    {
     "name": "stdout",
     "output_type": "stream",
     "text": [
      "Threshold: 0.01\n",
      "(x0)' = 0.050 1 + -9.920 x0 + 9.918 x1\n",
      "(x1)' = -0.276 1 + 26.600 x0 + -0.326 x1 + -0.960 x0 x2 + -0.015 x1 x2\n",
      "(x2)' = -0.158 1 + -2.655 x2 + 0.997 x0 x1\n"
     ]
    },
    {
     "name": "stderr",
     "output_type": "stream",
     "text": [
      "100%|██████████| 990/990 [00:04<00:00, 227.72it/s]\n"
     ]
    },
    {
     "name": "stdout",
     "output_type": "stream",
     "text": [
      "MSE: 0.001357680884399012\n",
      "Threshold: 0.02\n",
      "(x0)' = 0.050 1 + -9.920 x0 + 9.918 x1\n",
      "(x1)' = -0.078 1 + 27.240 x0 + -0.808 x1 + -0.979 x0 x2\n",
      "(x2)' = -0.158 1 + -2.655 x2 + 0.997 x0 x1\n"
     ]
    },
    {
     "name": "stderr",
     "output_type": "stream",
     "text": [
      "100%|██████████| 990/990 [00:04<00:00, 226.09it/s]\n"
     ]
    },
    {
     "name": "stdout",
     "output_type": "stream",
     "text": [
      "MSE: 0.001318773678040758\n",
      "Threshold: 0.03\n",
      "(x0)' = 0.050 1 + -9.920 x0 + 9.918 x1\n",
      "(x1)' = -0.078 1 + 27.240 x0 + -0.808 x1 + -0.979 x0 x2\n",
      "(x2)' = -0.158 1 + -2.655 x2 + 0.997 x0 x1\n"
     ]
    },
    {
     "name": "stderr",
     "output_type": "stream",
     "text": [
      "100%|██████████| 990/990 [00:04<00:00, 225.70it/s]\n"
     ]
    },
    {
     "name": "stdout",
     "output_type": "stream",
     "text": [
      "MSE: 0.001318773678040758\n",
      "Threshold: 0.05\n",
      "(x0)' = 0.050 1 + -9.920 x0 + 9.918 x1\n",
      "(x1)' = -0.078 1 + 27.240 x0 + -0.808 x1 + -0.979 x0 x2\n",
      "(x2)' = -0.158 1 + -2.655 x2 + 0.997 x0 x1\n"
     ]
    },
    {
     "name": "stderr",
     "output_type": "stream",
     "text": [
      "100%|██████████| 990/990 [00:04<00:00, 222.23it/s]\n"
     ]
    },
    {
     "name": "stdout",
     "output_type": "stream",
     "text": [
      "MSE: 0.001318773678040758\n"
     ]
    }
   ],
   "source": [
    "noisy_data = add_noise(sol.y, 0.2)\n",
    "thresholds = [0.01, 0.02, 0.03, 0.05]\n",
    "for threshold in thresholds:\n",
    "    optimizer = ps.STLSQ(threshold=threshold)\n",
    "    model = ps.SINDy(feature_library=feature_library, optimizer=optimizer)\n",
    "    model.fit(noisy_data.T, t=sol.t)\n",
    "    print(f\"Threshold: {threshold}\")\n",
    "    model.print()\n",
    "    predicted_points = np.array(Parallel(n_jobs=16)(delayed(predict_n_step)(model, sol.y.T, sol.t, i, N) for i in tqdm(range(num - N))))\n",
    "    mse = np.mean((predicted_points - sol.y.T[N: num]) ** 2)\n",
    "    print(f\"MSE: {mse}\")"
   ]
  },
  {
   "cell_type": "markdown",
   "metadata": {},
   "source": [
    "For the dataset with 20 percent noise, setting the threshold at 0.02 in the SINDy model proves sufficient. Increasing the threshold beyond this value does not result in lower prediction errors."
   ]
  },
  {
   "cell_type": "code",
   "execution_count": 13,
   "metadata": {},
   "outputs": [
    {
     "name": "stdout",
     "output_type": "stream",
     "text": [
      "Threshold: 0.01\n",
      "(x0)' = 2.428 1 + 6.386 x0 + 1.702 x1 + -0.279 x2 + -0.082 x0^2 + 0.067 x0 x1 + -0.579 x0 x2 + -0.013 x1^2 + 0.233 x1 x2 + 0.010 x2^2 + 0.054 x0^3 + -0.047 x0^2 x1 + 0.012 x0 x1^2\n",
      "(x1)' = -0.332 1 + 25.184 x0 + 0.495 x1 + -0.022 x2 + -0.923 x0 x2 + -0.035 x1 x2\n",
      "(x2)' = 3.952 1 + 0.012 x1 + -3.307 x2 + -0.132 x0^2 + 1.073 x0 x1 + 0.024 x2^2\n"
     ]
    },
    {
     "name": "stderr",
     "output_type": "stream",
     "text": [
      "100%|██████████| 990/990 [00:04<00:00, 243.94it/s]\n"
     ]
    },
    {
     "name": "stdout",
     "output_type": "stream",
     "text": [
      "MSE: 0.022799404677391947\n",
      "Threshold: 0.05\n",
      "(x0)' = 1.189 1 + -5.446 x0 + 7.343 x1 + -0.114 x0 x2 + 0.057 x1 x2\n",
      "(x1)' = -0.447 1 + 26.583 x0 + -0.583 x1 + -0.965 x0 x2\n",
      "(x2)' = 0.192 1 + -2.644 x2 + 0.988 x0 x1\n"
     ]
    },
    {
     "name": "stderr",
     "output_type": "stream",
     "text": [
      "100%|██████████| 990/990 [00:04<00:00, 239.22it/s]\n"
     ]
    },
    {
     "name": "stdout",
     "output_type": "stream",
     "text": [
      "MSE: 0.015584748307172191\n",
      "Threshold: 0.1\n",
      "(x0)' = -9.505 x0 + 9.559 x1\n",
      "(x1)' = -0.447 1 + 26.583 x0 + -0.583 x1 + -0.965 x0 x2\n",
      "(x2)' = 0.192 1 + -2.644 x2 + 0.988 x0 x1\n"
     ]
    },
    {
     "name": "stderr",
     "output_type": "stream",
     "text": [
      "100%|██████████| 990/990 [00:04<00:00, 233.54it/s]\n"
     ]
    },
    {
     "name": "stdout",
     "output_type": "stream",
     "text": [
      "MSE: 0.00789167712585458\n",
      "Threshold: 0.2\n",
      "(x0)' = -9.505 x0 + 9.559 x1\n",
      "(x1)' = -9.813 1 + -6.691 x0 + 20.359 x1 + -0.606 x1 x2\n",
      "(x2)' = -2.636 x2 + 0.988 x0 x1\n"
     ]
    },
    {
     "name": "stderr",
     "output_type": "stream",
     "text": [
      "100%|██████████| 990/990 [00:04<00:00, 227.28it/s]\n"
     ]
    },
    {
     "name": "stdout",
     "output_type": "stream",
     "text": [
      "MSE: 1.261616320524987\n"
     ]
    }
   ],
   "source": [
    "noisy_data = add_noise(sol.y, 0.5)\n",
    "thresholds = [0.01, 0.05, 0.1, 0.2]\n",
    "for threshold in thresholds:\n",
    "    optimizer = ps.STLSQ(threshold=threshold)\n",
    "    model = ps.SINDy(feature_library=feature_library, optimizer=optimizer)\n",
    "    model.fit(noisy_data.T, t=sol.t)\n",
    "    print(f\"Threshold: {threshold}\")\n",
    "    model.print()\n",
    "    predicted_points = np.array(Parallel(n_jobs=16)(delayed(predict_n_step)(model, sol.y.T, sol.t, i, N) for i in tqdm(range(num - N))))\n",
    "    mse = np.mean((predicted_points - sol.y.T[N: num]) ** 2)\n",
    "    print(f\"MSE: {mse}\")"
   ]
  },
  {
   "cell_type": "markdown",
   "metadata": {},
   "source": [
    "For the dataset with 50 percent noise, setting the threshold at 0.1 in the SINDy model proves sufficient. Increasing the threshold beyond this value does not result in lower prediction errors."
   ]
  },
  {
   "cell_type": "markdown",
   "metadata": {},
   "source": [
    "The analysis indicates that noisier datasets require higher thresholds in the SINDy model to optimize accuracy and manage overfitting. This approach helps to ensure the model captures only the most significant dynamics, essential for maintaining robustness in noisy environments."
   ]
  },
  {
   "cell_type": "markdown",
   "metadata": {},
   "source": [
    "### Task 1.5 Partial Observation"
   ]
  },
  {
   "cell_type": "code",
   "execution_count": 14,
   "metadata": {},
   "outputs": [],
   "source": [
    "def embed_time_series(data, t, delay, dimension):\n",
    "    n_samples = len(data) - (dimension - 1) * delay\n",
    "    embedded_data = np.zeros((n_samples, dimension))\n",
    "    for i in range(dimension):\n",
    "        embedded_data[:, i] = data[i * delay:i * delay + n_samples]\n",
    "    return embedded_data, t[:n_samples]"
   ]
  },
  {
   "cell_type": "code",
   "execution_count": 16,
   "metadata": {},
   "outputs": [
    {
     "name": "stdout",
     "output_type": "stream",
     "text": [
      "Delay: 5, Dimension: 2\n",
      "(x0)' = -19.123 x0 + 19.630 x1\n",
      "(x1)' = -19.657 x0 + 19.151 x1\n"
     ]
    },
    {
     "name": "stderr",
     "output_type": "stream",
     "text": [
      "100%|██████████| 990/990 [00:01<00:00, 924.47it/s]\n"
     ]
    },
    {
     "name": "stdout",
     "output_type": "stream",
     "text": [
      "MSE: 0.5800677451970786\n",
      "Delay: 5, Dimension: 3\n",
      "(x0)' = -27.539 x0 + 37.274 x1 + -9.694 x2\n",
      "(x1)' = -10.522 x0 + 10.521 x2\n",
      "(x2)' = 9.882 x0 + -37.632 x1 + 27.712 x2 + -0.376 x0 x1 + 0.447 x0 x2 + 0.737 x1^2 + -1.215 x1 x2 + 0.407 x2^2\n"
     ]
    },
    {
     "name": "stderr",
     "output_type": "stream",
     "text": [
      "100%|██████████| 990/990 [00:03<00:00, 269.09it/s]\n"
     ]
    },
    {
     "name": "stdout",
     "output_type": "stream",
     "text": [
      "MSE: 0.0008239871428475813\n",
      "Delay: 5, Dimension: 4\n",
      "(x0)' = -32.315 x0 + 51.085 x1 + -24.585 x2 + 5.909 x3\n",
      "(x1)' = -7.706 x0 + -8.148 x1 + 19.313 x2 + -3.492 x3\n",
      "(x2)' = -10.522 x1 + 10.521 x3\n",
      "(x3)' = -5.922 x0 + 24.618 x1 + -51.119 x2 + 32.328 x3\n"
     ]
    },
    {
     "name": "stderr",
     "output_type": "stream",
     "text": [
      "100%|██████████| 990/990 [00:08<00:00, 121.15it/s]\n"
     ]
    },
    {
     "name": "stdout",
     "output_type": "stream",
     "text": [
      "MSE: 0.001416113280094231\n",
      "Delay: 10, Dimension: 2\n",
      "(x0)' = -8.458 x0 + 9.352 x1\n",
      "(x1)' = -9.386 x0 + 8.495 x1\n"
     ]
    },
    {
     "name": "stderr",
     "output_type": "stream",
     "text": [
      "100%|██████████| 990/990 [00:01<00:00, 924.96it/s]\n"
     ]
    },
    {
     "name": "stdout",
     "output_type": "stream",
     "text": [
      "MSE: 0.055372009026535315\n",
      "Delay: 10, Dimension: 3\n",
      "(x0)' = 0.462 1 + -11.046 x0 + 15.969 x1 + -4.578 x2 + -0.123 x0^2 + 0.453 x0 x1 + -0.150 x0 x2 + -0.313 x1^2 + 0.158 x1 x2\n",
      "(x1)' = -5.942 x0 + 5.939 x2\n",
      "(x2)' = 4.590 x0 + -15.913 x1 + 11.123 x2\n"
     ]
    },
    {
     "name": "stderr",
     "output_type": "stream",
     "text": [
      "100%|██████████| 990/990 [00:03<00:00, 273.52it/s]\n"
     ]
    },
    {
     "name": "stdout",
     "output_type": "stream",
     "text": [
      "MSE: 0.017023382376993378\n",
      "Delay: 10, Dimension: 4\n",
      "(x0)' = -9.298 x0 + 11.339 x1 + -1.723 x3\n",
      "(x1)' = -5.939 x0 + 5.939 x2\n",
      "(x2)' = -5.952 x1 + 5.955 x3\n",
      "(x3)' = -2.442 x0 + 8.479 x1 + -18.751 x2 + 12.057 x3 + -0.242 x0 x2 + 0.147 x1 x2 + 0.148 x1 x3 + -0.117 x2 x3\n"
     ]
    },
    {
     "name": "stderr",
     "output_type": "stream",
     "text": [
      "100%|██████████| 990/990 [00:08<00:00, 123.32it/s]\n"
     ]
    },
    {
     "name": "stdout",
     "output_type": "stream",
     "text": [
      "MSE: 0.21863593115995208\n",
      "Delay: 20, Dimension: 2\n",
      "(x0)' = 5.048 1 + -2.547 x0 + 3.978 x1\n",
      "(x1)' = -5.432 1 + -3.995 x0 + 2.547 x1\n"
     ]
    },
    {
     "name": "stderr",
     "output_type": "stream",
     "text": [
      "100%|██████████| 990/990 [00:01<00:00, 944.54it/s]\n"
     ]
    },
    {
     "name": "stdout",
     "output_type": "stream",
     "text": [
      "MSE: 2.0875362141484954\n",
      "Delay: 20, Dimension: 3\n",
      "(x0)' = 2.185 1 + -2.776 x0 + 5.238 x1 + -1.780 x2\n",
      "(x1)' = -2.883 x0 + 8.127 x1 + 0.955 x2 + -0.101 x0 x1^2\n",
      "(x2)' = -3.329 1 + 1.717 x0 + -5.206 x1 + 2.699 x2\n"
     ]
    },
    {
     "name": "stderr",
     "output_type": "stream",
     "text": [
      "100%|██████████| 990/990 [00:04<00:00, 233.98it/s]\n"
     ]
    },
    {
     "name": "stdout",
     "output_type": "stream",
     "text": [
      "MSE: 1.538069985365878\n",
      "Delay: 20, Dimension: 4\n",
      "(x0)' = 0.687 1 + -2.588 x0 + 5.318 x1 + -1.986 x2 + 0.530 x3 + 0.116 x0 x2\n",
      "(x1)' = 11.113 1 + -3.275 x0 + 9.203 x1 + 0.365 x2 + -0.259 x3 + -0.229 x0 x1 + -0.136 x2 x3 + -0.116 x0 x1^2\n",
      "(x2)' = -0.118 1 + -3.483 x1 + -0.188 x2 + 3.659 x3\n",
      "(x3)' = 3.510 1 + 1.323 x1 + -4.079 x2 + 9.880 x3 + -0.131 x2 x3 + -0.118 x2 x3^2\n"
     ]
    },
    {
     "name": "stderr",
     "output_type": "stream",
     "text": [
      "100%|██████████| 990/990 [00:09<00:00, 103.69it/s]\n"
     ]
    },
    {
     "name": "stdout",
     "output_type": "stream",
     "text": [
      "MSE: 1.4153507915518906\n"
     ]
    }
   ],
   "source": [
    "for delay_time in [5, 10, 20]:\n",
    "    for embedding_dim in [2, 3, 4]:\n",
    "        print(f'Delay: {delay_time}, Dimension: {embedding_dim}')\n",
    "        embedded_x, t = embed_time_series(sol.y[0], sol.t, delay_time, embedding_dim)\n",
    "\n",
    "        optimizer = ps.STLSQ(threshold=0.1)\n",
    "        model = ps.SINDy(feature_library=feature_library, optimizer=optimizer)\n",
    "        model.fit(embedded_x, t=t)\n",
    "        model.print()\n",
    "\n",
    "        predicted_points = np.array(Parallel(n_jobs=16)(delayed(predict_n_step)(model, embedded_x, sol.t, i, N) for i in tqdm(range(num - N))))\n",
    "        mse = np.mean((predicted_points[:, 0] - embedded_x[N: num, 0]) ** 2)\n",
    "        print(f\"MSE: {mse}\")"
   ]
  },
  {
   "cell_type": "markdown",
   "metadata": {},
   "source": [
    "The best results were achieved using a delay of 5 and an embedding dimension of 4, yielding a MSE of 0.0008. This setup optimally captured the system's dynamics, leading to high model accuracy."
   ]
  },
  {
   "cell_type": "markdown",
   "metadata": {},
   "source": [
    "### Task 1.6 Low Data Limit"
   ]
  },
  {
   "cell_type": "code",
   "execution_count": 17,
   "metadata": {},
   "outputs": [
    {
     "name": "stdout",
     "output_type": "stream",
     "text": [
      "1000\n",
      "(x0)' = 9.381 1 + 4.149 x1 + -0.261 x0 x2 + 0.153 x1 x2\n",
      "(x1)' = 27.484 x0 + -0.896 x1 + -0.984 x0 x2\n",
      "(x2)' = 0.228 1 + -2.665 x2 + 0.995 x0 x1\n"
     ]
    },
    {
     "name": "stderr",
     "output_type": "stream",
     "text": [
      "100%|██████████| 990/990 [00:03<00:00, 257.32it/s]\n"
     ]
    },
    {
     "name": "stdout",
     "output_type": "stream",
     "text": [
      "MSE: 0.01709221294503908\n",
      "1500\n",
      "(x0)' = -9.984 x0 + 9.984 x1\n",
      "(x1)' = 27.532 x0 + -0.907 x1 + -0.986 x0 x2\n",
      "(x2)' = -2.659 x2 + 0.996 x0 x1\n"
     ]
    },
    {
     "name": "stderr",
     "output_type": "stream",
     "text": [
      "100%|██████████| 990/990 [00:04<00:00, 242.83it/s]\n"
     ]
    },
    {
     "name": "stdout",
     "output_type": "stream",
     "text": [
      "MSE: 0.0007343952542647088\n",
      "2000\n",
      "(x0)' = -9.983 x0 + 9.984 x1\n",
      "(x1)' = 27.572 x0 + -0.914 x1 + -0.987 x0 x2\n",
      "(x2)' = -2.659 x2 + 0.996 x0 x1\n"
     ]
    },
    {
     "name": "stderr",
     "output_type": "stream",
     "text": [
      "100%|██████████| 990/990 [00:04<00:00, 238.73it/s]\n"
     ]
    },
    {
     "name": "stdout",
     "output_type": "stream",
     "text": [
      "MSE: 0.000677346975528092\n",
      "2500\n",
      "(x0)' = -9.983 x0 + 9.983 x1\n",
      "(x1)' = 27.576 x0 + -0.913 x1 + -0.987 x0 x2\n",
      "(x2)' = -2.659 x2 + 0.996 x0 x1\n"
     ]
    },
    {
     "name": "stderr",
     "output_type": "stream",
     "text": [
      "100%|██████████| 990/990 [00:04<00:00, 241.27it/s]\n"
     ]
    },
    {
     "name": "stdout",
     "output_type": "stream",
     "text": [
      "MSE: 0.0006745349491226786\n",
      "3000\n",
      "(x0)' = -9.983 x0 + 9.983 x1\n",
      "(x1)' = 27.561 x0 + -0.909 x1 + -0.987 x0 x2\n",
      "(x2)' = -2.659 x2 + 0.996 x0 x1\n"
     ]
    },
    {
     "name": "stderr",
     "output_type": "stream",
     "text": [
      "100%|██████████| 990/990 [00:04<00:00, 234.06it/s]\n"
     ]
    },
    {
     "name": "stdout",
     "output_type": "stream",
     "text": [
      "MSE: 0.000683610352922234\n"
     ]
    }
   ],
   "source": [
    "num = 1000\n",
    "data_sizes = [1000, 1500, 2000, 2500, 3000]\n",
    "for size in data_sizes:\n",
    "    sampled_data = sol.y.T[:size]\n",
    "    sampled_t = sol.t[:size]\n",
    "    \n",
    "    optimizer = ps.STLSQ(threshold=0.1)\n",
    "    model = ps.SINDy(feature_library=feature_library, optimizer=optimizer)\n",
    "    model.fit(sampled_data, t=sampled_t)\n",
    "    print(size)\n",
    "    model.print()\n",
    "    predicted_points = np.array(Parallel(n_jobs=16)(delayed(predict_n_step)(model, sampled_data, sampled_t, i, N) for i in tqdm(range(num - N))))\n",
    "    mse = np.mean((predicted_points - sampled_data[N: num]) ** 2)\n",
    "    print(f\"MSE: {mse}\")"
   ]
  },
  {
   "cell_type": "markdown",
   "metadata": {},
   "source": [
    "The minimal number of time points required to faithfully reconstruct the Lorenz system is determined to be 1,500."
   ]
  },
  {
   "cell_type": "markdown",
   "metadata": {},
   "source": [
    "### Task 1.7 Logistic Map"
   ]
  },
  {
   "cell_type": "code",
   "execution_count": 9,
   "metadata": {},
   "outputs": [],
   "source": [
    "def logistic_map(r, x):\n",
    "    return r * x * (1 - x)\n",
    "\n",
    "def simulate_logistic_map(r_values, num_iterations, initial_value=0.5):\n",
    "    data = np.zeros((len(r_values), num_iterations))\n",
    "    for i, r in enumerate(r_values):\n",
    "        x = initial_value\n",
    "        for t in range(num_iterations):\n",
    "            x = logistic_map(r, x)\n",
    "            data[i, t] = x\n",
    "    return data\n",
    "\n",
    "r_values = np.linspace(1.0, 4.0, 1001, endpoint=False)[1:]\n",
    "logistic_data = simulate_logistic_map(r_values, 20000)"
   ]
  },
  {
   "cell_type": "code",
   "execution_count": 10,
   "metadata": {},
   "outputs": [
    {
     "data": {
      "text/plain": [
       "Text(0, 0.5, '$x$')"
      ]
     },
     "execution_count": 10,
     "metadata": {},
     "output_type": "execute_result"
    },
    {
     "data": {
      "image/png": "[encoded data removed]",
      "text/plain": [
       "<Figure size 800x400 with 1 Axes>"
      ]
     },
     "metadata": {},
     "output_type": "display_data"
    }
   ],
   "source": [
    "plt.figure(figsize=(8, 4))\n",
    "for i in range(len(r_values)):\n",
    "    plt.plot([r_values[i]] * 100, logistic_data[i, -100:], ',k', alpha=0.25)\n",
    "plt.title(\"Bifurcation Diagram\")\n",
    "plt.xlabel(\"$r$\")\n",
    "plt.ylabel(\"$x$\")"
   ]
  },
  {
   "cell_type": "code",
   "execution_count": 11,
   "metadata": {},
   "outputs": [],
   "source": [
    "library = ps.PolynomialLibrary(degree=2, include_bias=False, include_interaction=False)\n",
    "optimizer = ps.STLSQ(threshold=0.5, alpha=0.01)\n",
    "model = ps.SINDy(feature_library=library, optimizer=optimizer, discrete_time=True)\n",
    "\n",
    "coef = []\n",
    "for trajectory in logistic_data:\n",
    "    X_current = np.array(trajectory[-3000:])\n",
    "    model.fit(X_current.reshape(-1,1))\n",
    "    coef.append(model.coefficients()[0])\n",
    "coef = np.array(coef).T"
   ]
  },
  {
   "cell_type": "code",
   "execution_count": 12,
   "metadata": {},
   "outputs": [
    {
     "data": {
      "text/plain": [
       "<matplotlib.legend.Legend at 0x30b5480e0>"
      ]
     },
     "execution_count": 12,
     "metadata": {},
     "output_type": "execute_result"
    },
    {
     "data": {
      "image/png": "[encoded data removed]",
      "text/plain": [
       "<Figure size 1000x400 with 2 Axes>"
      ]
     },
     "metadata": {},
     "output_type": "display_data"
    }
   ],
   "source": [
    "fig, axes = plt.subplots(1, 2, figsize=(10, 4))\n",
    "axes[0].plot(r_values, r_values, 'r.', markersize=2, label='True $r$')\n",
    "axes[0].plot(r_values, coef[0], 'b.', markersize=0.5, label='Estimated $r$')\n",
    "axes[0].set_xlabel('True $r$')\n",
    "axes[0].set_ylabel('Coefficient of $x_t$')\n",
    "axes[0].legend()\n",
    "\n",
    "axes[1].plot(r_values, r_values, 'r.', markersize=2, label='True $r$')\n",
    "axes[1].plot(r_values, -coef[1], 'b.', markersize=0.5, label='Estimated $r$')\n",
    "axes[1].set_xlabel('True $r$')\n",
    "axes[1].set_ylabel('Negative Coefficient of $x_t^2$')\n",
    "axes[1].legend()"
   ]
  },
  {
   "cell_type": "markdown",
   "metadata": {},
   "source": [
    "The analysis of the SINDy model outputs for the logistic map shows distinct behaviors depending on the value of $ r $.\n",
    "\n",
    "- For $ r $ values less than 3, where the map converges to a fixed point, the SINDy model essentially finds that $ x_{t+1} = x_t $. This indicates stability at the fixed points, making it challenging to estimate $ r $ because the dynamical changes are minimal and don't effectively highlight the role of $ r $ in driving the system's behavior.\n",
    "\n",
    "- For $ r $ values greater than 3, where the system exhibits more complex dynamics including cycles and chaotic behavior, the SINDy model is able to capture and estimate the parameters effectively. In this regime, the model identifies coefficients $ a $ and $ b $ from the learned quadratic equation $ a x_t - b x_t^2 $, both of which correlate with $ r $ and can be used to accurately estimate its value."
   ]
  }
 ],
 "metadata": {
  "kernelspec": {
   "display_name": "dsml_24ws",
   "language": "python",
   "name": "python3"
  },
  "language_info": {
   "codemirror_mode": {
    "name": "ipython",
    "version": 3
   },
   "file_extension": ".py",
   "mimetype": "text/x-python",
   "name": "python",
   "nbconvert_exporter": "python",
   "pygments_lexer": "ipython3",
   "version": "3.12.7"
  }
 },
 "nbformat": 4,
 "nbformat_minor": 2
}
